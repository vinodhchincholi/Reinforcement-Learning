{
 "cells": [
  {
   "cell_type": "markdown",
   "metadata": {},
   "source": [
    "## REFL Assignment 1\n",
    "Vinodh Chincholi, MDS202252\n",
    "\n",
    "Question 2(i) Gradient Ascent for Cart-pole"
   ]
  },
  {
   "cell_type": "code",
   "execution_count": 1,
   "metadata": {},
   "outputs": [],
   "source": [
    "import numpy as np\n",
    "import matplotlib.pyplot as plt\n",
    "from numpy import sin, cos, pi, exp, dot"
   ]
  },
  {
   "cell_type": "code",
   "execution_count": 2,
   "metadata": {},
   "outputs": [],
   "source": [
    "## Initialize constant values as given in question\n",
    "\n",
    "g = 9.8\n",
    "mp = 0.1\n",
    "mc = 10.0\n",
    "l = 1.0\n",
    "\n",
    "def sigmoid(par, vec):\n",
    "    return 1 /(1 + exp(-1*dot(par, vec)))"
   ]
  },
  {
   "cell_type": "code",
   "execution_count": 3,
   "metadata": {},
   "outputs": [],
   "source": [
    "## Helper function to bound card's linear and angular velocity \n",
    "\n",
    "def validate(val, type):\n",
    "    if type == 'x_dot':\n",
    "        if val <= -10:\n",
    "            return -10\n",
    "        elif val >= 10:\n",
    "            return 10\n",
    "        else:\n",
    "            return val\n",
    "        \n",
    "    elif type == 'theta_dot':\n",
    "        if val <= -1*pi:\n",
    "            return -1*pi\n",
    "        elif val >= pi:\n",
    "            return pi\n",
    "        else:\n",
    "            return val"
   ]
  },
  {
   "cell_type": "code",
   "execution_count": 4,
   "metadata": {},
   "outputs": [],
   "source": [
    "## The cartpole class sets up the environment \n",
    "## dynamics function using formulae from paper p:s, a --> s' \n",
    "## It also returns policy given parameters as sigmoid of linear function of s\n",
    "\n",
    "class cartpole:\n",
    "    \n",
    "    def __init__(self):\n",
    "        \n",
    "        ## the state rep is (pos, vel, theta, ang_vel, time)\n",
    "        self.x = 0\n",
    "        self.x_dot = 0\n",
    "        self.theta = 0\n",
    "        self.theta_dot = 0\n",
    "        self.t = 0\n",
    "        \n",
    "    def getCurState(self):\n",
    "        return np.array([self.x, self.x_dot, self.theta, self.theta_dot, self.t])\n",
    "    \n",
    "    def getNewState(self, F):\n",
    "        \n",
    "        ## Using equations from paper, update state and time\n",
    "        \n",
    "        x, x_dot, theta, theta_dot, t = self.x, self.x_dot, self.theta, self.theta_dot, self.t\n",
    "        \n",
    "        expr1 = (-1*F - mp*l*(theta_dot**2)*sin(theta))\n",
    "        theta_doubledot = (g*sin(theta) + cos(theta)*expr1)/(l*(4/3 - mp*(cos(theta)**2)/(mc + mp)))\n",
    "        \n",
    "        x_doubledot = (F + mp*l*((theta_dot**2)*sin(theta) - theta_doubledot*cos(theta)))/(mc+mp)\n",
    "        \n",
    "        self.theta_dot = validate(theta_dot + 0.02*theta_doubledot, 'theta_dot')\n",
    "        self.x_dot = validate(x_dot + 0.02*x_doubledot, 'x_dot')\n",
    "        \n",
    "        self.theta = self.theta + 0.02*self.theta_dot\n",
    "        self.x = x + 0.02*self.x_dot\n",
    "        self.t = t + 0.02\n",
    "        \n",
    "        return\n",
    "    \n",
    "    def getAction(self, par):\n",
    "        prob_right = sigmoid(par, self.getCurState())\n",
    "        \n",
    "        ## Returns deterministic thresholded action\n",
    "        if prob_right > 0.5:\n",
    "            return 10\n",
    "        else:\n",
    "            return -10\n",
    "\n",
    "        \n",
    "    def legal(self):\n",
    "        ## Check if cart is out of boundary\n",
    "        if self.x <= -3 or self.x >= 3:\n",
    "            return False\n",
    "        \n",
    "        ## Check if the pole has fallen or not\n",
    "        elif self.theta <= -5*pi/12 or self.theta >= 5*pi/12:\n",
    "            return False\n",
    "        \n",
    "        ## Check if time is greater than 20s\n",
    "        elif self.t >= 20:\n",
    "            return False\n",
    "        \n",
    "        return True"
   ]
  },
  {
   "cell_type": "code",
   "execution_count": 5,
   "metadata": {},
   "outputs": [
    {
     "name": "stdout",
     "output_type": "stream",
     "text": [
      "[0 0 0 0 0]\n",
      "[ 0.00042596  0.02129824 -0.00302244 -0.15112219  0.02      ]\n"
     ]
    },
    {
     "data": {
      "text/plain": [
       "True"
      ]
     },
     "execution_count": 5,
     "metadata": {},
     "output_type": "execute_result"
    }
   ],
   "source": [
    "## Sample cartpole dynamics\n",
    "\n",
    "cart = cartpole()\n",
    "print(cart.getCurState())\n",
    "cart.getNewState(10.0)\n",
    "print(cart.getCurState())\n",
    "\n",
    "cart.legal()"
   ]
  },
  {
   "cell_type": "code",
   "execution_count": 6,
   "metadata": {},
   "outputs": [],
   "source": [
    "# def eval_policy(par, tot_eps):\n",
    "#     G_list = []\n",
    "#     for _ in range(tot_eps):\n",
    "#         cart = cartpole()\n",
    "#         reward = 0\n",
    "#         while cart.legal():\n",
    "#             f = cart.getAction(par = par)\n",
    "#             cart.getNewState(f)\n",
    "#             reward = reward + 1\n",
    "            \n",
    "#         G_list.append(reward)\n",
    "        \n",
    "#     return (np.mean(G_list), np.std(G_list))"
   ]
  },
  {
   "cell_type": "code",
   "execution_count": 13,
   "metadata": {},
   "outputs": [],
   "source": [
    "## Reusing function from grid world\n",
    "## We don't need to repeat tot_eps times since dynamics are deterministic\n",
    "\n",
    "def eval_policy(par, tot_eps):\n",
    "\n",
    "    cart = cartpole()\n",
    "    reward = 0\n",
    "    while cart.legal():\n",
    "        f = cart.getAction(par = par)\n",
    "        cart.getNewState(f)\n",
    "        reward = reward + 1\n",
    "\n",
    "    return (reward, 0)"
   ]
  },
  {
   "cell_type": "code",
   "execution_count": 8,
   "metadata": {},
   "outputs": [],
   "source": [
    "N = 50\n",
    "SIGMA = 1\n",
    "\n",
    "param = np.random.normal(0, SIGMA, (5))\n",
    "G_list = []"
   ]
  },
  {
   "cell_type": "code",
   "execution_count": 9,
   "metadata": {},
   "outputs": [
    {
     "name": "stdout",
     "output_type": "stream",
     "text": [
      "300) cand: 1001 best: 1001\r"
     ]
    }
   ],
   "source": [
    "## The rewards begin with 10 at time 0\n",
    "## Therefore the best value is 1001\n",
    "\n",
    "G = eval_policy(param, N)\n",
    "\n",
    "for i in range(300):\n",
    "    SIGMA = SIGMA * 1/(1 + 0.001*i)\n",
    "    candParam = np.random.normal(param, SIGMA)\n",
    "    candG = eval_policy(candParam, N)\n",
    "    if candG[0] > G[0]:\n",
    "        param = candParam.copy()\n",
    "        G = candG\n",
    "    print(f'{i+1}) cand: {candG[0]} best: {G[0]}', end='\\r')\n",
    "    G_list.append(candG)"
   ]
  },
  {
   "cell_type": "code",
   "execution_count": 10,
   "metadata": {},
   "outputs": [
    {
     "data": {
      "image/png": "[encoded data removed]",
      "text/plain": [
       "<Figure size 1000x500 with 1 Axes>"
      ]
     },
     "metadata": {},
     "output_type": "display_data"
    }
   ],
   "source": [
    "trial = [j+1 for j in range(len(G_list))]\n",
    "mean, std = [tup[0] for tup in G_list], [tup[1] for tup in G_list]\n",
    "\n",
    "fig = plt.figure(figsize=(10,5))\n",
    "plt.errorbar(x=trial, y=mean,\n",
    "             yerr=std, fmt='o')\n",
    "plt.show()"
   ]
  },
  {
   "cell_type": "code",
   "execution_count": 12,
   "metadata": {},
   "outputs": [
    {
     "name": "stdout",
     "output_type": "stream",
     "text": [
      "1001\n"
     ]
    }
   ],
   "source": [
    "## The final parameter yields best reward\n",
    "\n",
    "cart = cartpole()\n",
    "reward = 0\n",
    "while cart.legal():\n",
    "    f = cart.getAction(par = param)\n",
    "    cart.getNewState(f)\n",
    "    reward = reward + 1\n",
    "    \n",
    "print(reward)"
   ]
  },
  {
   "cell_type": "code",
   "execution_count": null,
   "metadata": {},
   "outputs": [],
   "source": []
  }
 ],
 "metadata": {
  "kernelspec": {
   "display_name": "base",
   "language": "python",
   "name": "python3"
  },
  "language_info": {
   "codemirror_mode": {
    "name": "ipython",
    "version": 3
   },
   "file_extension": ".py",
   "mimetype": "text/x-python",
   "name": "python",
   "nbconvert_exporter": "python",
   "pygments_lexer": "ipython3",
   "version": "3.11.5"
  }
 },
 "nbformat": 4,
 "nbformat_minor": 2
}
