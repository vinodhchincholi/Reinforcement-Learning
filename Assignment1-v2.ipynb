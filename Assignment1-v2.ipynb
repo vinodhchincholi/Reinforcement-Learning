{
 "cells": [
  {
   "cell_type": "markdown",
   "metadata": {},
   "source": [
    "## REFL Assignment 1\n",
    "Vinodh Chincholi, MDS202252\n",
    "\n",
    "Question 1(i) Gradient Ascent for 687 gridworld problem"
   ]
  },
  {
   "cell_type": "code",
   "execution_count": 1,
   "metadata": {},
   "outputs": [],
   "source": [
    "import numpy as np\n",
    "import matplotlib.pyplot as plt\n",
    "from tqdm import tqdm"
   ]
  },
  {
   "cell_type": "code",
   "execution_count": 2,
   "metadata": {},
   "outputs": [],
   "source": [
    "## This class specifies the environment (S, A, p, dR, d0, gamma)\n",
    "\n",
    "class gridWorld:\n",
    "    def __init__(self):\n",
    "        \n",
    "        ## the state space is tuple (i,j) excluding (2,2) (3,2)\n",
    "        self.S = [(i,j) for i in range(5) for j in range(5) \n",
    "                  if not((i==2 and j==2) or (i==3 and j==2))]\n",
    "        \n",
    "        ## the set of actions are up, down, left, right\n",
    "        ## these can be conviniently written as tuples which when added to state s \n",
    "        ## return the new state. Actions in order up, down, left, right (& stay at s)\n",
    "        self.A = {'u':(-1,0), 'd':(1,0), 'l':(0,-1), 'r':(0,1), 's':(0,0)}\n",
    "        \n",
    "        ## The initial state for each episode is constant\n",
    "        self.s = (0,0)\n",
    "        \n",
    "        ## Decay parameter as defined\n",
    "        self.gamma = 0.9\n",
    "        \n",
    "        self.reward = 0\n",
    "        \n",
    "        \n",
    "    def getNewState(self, a):\n",
    "        \n",
    "        oldState = self.s\n",
    "        \n",
    "        ## Sample action according to 0.8, 0.05, 0.05, 0.1 rule given in question\n",
    "        if a in ['u', 'd']:\n",
    "            a = np.random.choice([a, 'l', 'r', 's'], 1, [0.8, 0.05, 0.05, 0.1])[0]\n",
    "        elif a in ['l', 'r']:\n",
    "            a = np.random.choice([a, 'u', 'd', 's'], 1, [0.8, 0.05, 0.05, 0.1])[0]\n",
    "        \n",
    "        ## Convert from string action to tuple\n",
    "        a = self.A[a]\n",
    "        \n",
    "        ## Take the action a\n",
    "        candState = tuple(map(sum, zip(self.s, a)))\n",
    "        \n",
    "        ## Return same state if a is taking agent out of gridWorld\n",
    "        if candState not in self.S:\n",
    "            # print(f'Cannot go {candState} from {oldState}')\n",
    "            self.reward = 0\n",
    "            return\n",
    "        \n",
    "        ## Else return new state\n",
    "        self.s = candState\n",
    "        \n",
    "        ## Once the move is made, update rewards\n",
    "        if self.s == (4,2):\n",
    "            self.reward = -10\n",
    "\n",
    "        elif self.s == (4,4):\n",
    "            self.reward = 10\n",
    "            \n",
    "        else:\n",
    "            self.reward = 0\n",
    "        \n",
    "        # print(f'{oldState} --> {self.s}\\n Reward: {self.reward}')\n",
    "        return"
   ]
  },
  {
   "cell_type": "code",
   "execution_count": 3,
   "metadata": {},
   "outputs": [],
   "source": [
    "# states = [(i,j) for i in range(5) for j in range(5) \n",
    "#           if not((i==2 and j==2) or (i==3 and j==2))]\n",
    "\n",
    "states = [(i,j) for i in range(5) for j in range(5)]\n",
    "\n",
    "s2idx = dict([(tup,5*tup[0]+tup[1]) for tup in states])\n",
    "idx2s = dict([(s2idx[i],i) for i in s2idx])\n",
    "\n",
    "lookup = dict([(i,s2idx[i]) for i in s2idx] + \n",
    "                [(j,idx2s[j]) for j in idx2s])"
   ]
  },
  {
   "cell_type": "code",
   "execution_count": 4,
   "metadata": {},
   "outputs": [],
   "source": [
    "def softmax(x):\n",
    "    \"\"\"Compute softmax values for each sets of scores in x.\"\"\"\n",
    "    return np.exp(x) / np.sum(np.exp(x), axis=0)"
   ]
  },
  {
   "cell_type": "code",
   "execution_count": 5,
   "metadata": {},
   "outputs": [],
   "source": [
    "action_lookup = {0:'u', 1:'d', 2:'l', 3:'r'}"
   ]
  },
  {
   "cell_type": "code",
   "execution_count": 6,
   "metadata": {},
   "outputs": [],
   "source": [
    "def eval_policy(theta, tot_eps):\n",
    "    policy = np.reshape(theta, (25,4))\n",
    "    G_list = []\n",
    "    \n",
    "    for _ in range(tot_eps):\n",
    "        agent = gridWorld()\n",
    "        state = agent.s\n",
    "        moves = 0\n",
    "        converge = True\n",
    "        \n",
    "        terminal = False\n",
    "        G = 0\n",
    "        while not(terminal):\n",
    "\n",
    "            state_idx = lookup[state]\n",
    "            probs = softmax(policy[state_idx])\n",
    "            action = np.argmax(probs)\n",
    "            action = action_lookup[action]\n",
    "            \n",
    "            agent.getNewState(action)\n",
    "            G = agent.reward + agent.gamma*G\n",
    "            state = agent.s\n",
    "            moves += 1\n",
    "            \n",
    "            if state == (4,4):\n",
    "                terminal = True\n",
    "                \n",
    "            if moves > 10000:\n",
    "                break\n",
    "            \n",
    "        G_list.append(G)\n",
    "    \n",
    "    return(np.mean(G_list), np.std(G_list))"
   ]
  },
  {
   "cell_type": "code",
   "execution_count": 7,
   "metadata": {},
   "outputs": [],
   "source": [
    "N = 50\n",
    "SIGMA = 1\n",
    "\n",
    "theta = np.random.normal(0, SIGMA, 25*4)\n",
    "policy = np.reshape(theta, (25,4))\n",
    "G_list = []"
   ]
  },
  {
   "cell_type": "code",
   "execution_count": 8,
   "metadata": {},
   "outputs": [
    {
     "name": "stdout",
     "output_type": "stream",
     "text": [
      "300 cand: 10.0 best: 10.067 best: 10.0.04201919495825\r"
     ]
    }
   ],
   "source": [
    "for i in range(300):\n",
    "    G = eval_policy(theta, N)\n",
    "    candTheta = np.random.normal(theta, SIGMA)\n",
    "    candG = eval_policy(candTheta, N)\n",
    "    print(f'{i+1} cand: {candG[0]} best: {G[0]}', end='\\r')\n",
    "    if candG[0] > G[0]:\n",
    "        theta = candTheta.copy()\n",
    "        G = candG\n",
    "    G_list.append(candG)"
   ]
  },
  {
   "cell_type": "code",
   "execution_count": 9,
   "metadata": {},
   "outputs": [
    {
     "data": {
      "image/png": "[encoded data removed]",
      "text/plain": [
       "<Figure size 1000x500 with 1 Axes>"
      ]
     },
     "metadata": {},
     "output_type": "display_data"
    }
   ],
   "source": [
    "trial = [j+1 for j in range(len(G_list))]\n",
    "mean, std = [tup[0] for tup in G_list], [tup[1] for tup in G_list]\n",
    "\n",
    "fig = plt.figure(figsize=(10,5))\n",
    "plt.errorbar(x=trial, y=mean,\n",
    "             yerr=std, fmt='o')\n",
    "plt.show()"
   ]
  },
  {
   "cell_type": "code",
   "execution_count": 10,
   "metadata": {},
   "outputs": [],
   "source": [
    "policy = np.reshape(theta, (25,4))"
   ]
  },
  {
   "cell_type": "code",
   "execution_count": 11,
   "metadata": {},
   "outputs": [],
   "source": [
    "policy = [np.argmax(softmax(policy[i])) for i in range(25)]\n",
    "policy = [action_lookup[i] for i in policy]"
   ]
  },
  {
   "cell_type": "code",
   "execution_count": 12,
   "metadata": {},
   "outputs": [],
   "source": [
    "table = np.array(['a' for j in range(25)])\n",
    "table = np.reshape(table, (5,5))"
   ]
  },
  {
   "cell_type": "code",
   "execution_count": 13,
   "metadata": {},
   "outputs": [],
   "source": [
    "for i in range(25):\n",
    "    tup = lookup[i]\n",
    "    table[tup] = policy[i]\n",
    "    \n",
    "table[2,2], table[3,2], table[4,4] = '_', '_', '_'"
   ]
  },
  {
   "cell_type": "code",
   "execution_count": 14,
   "metadata": {},
   "outputs": [],
   "source": [
    "policy = np.reshape(theta, (25,4))"
   ]
  },
  {
   "cell_type": "code",
   "execution_count": 15,
   "metadata": {},
   "outputs": [
    {
     "data": {
      "text/plain": [
       "array([['d', 'u', 'd', 'r', 'r'],\n",
       "       ['d', 'l', 'd', 'd', 'l'],\n",
       "       ['l', 'd', '_', 'd', 'd'],\n",
       "       ['l', 'r', '_', 'u', 'r'],\n",
       "       ['l', 'l', 'u', 'l', '_']], dtype='<U1')"
      ]
     },
     "execution_count": 15,
     "metadata": {},
     "output_type": "execute_result"
    }
   ],
   "source": [
    "table"
   ]
  },
  {
   "cell_type": "code",
   "execution_count": null,
   "metadata": {},
   "outputs": [],
   "source": []
  }
 ],
 "metadata": {
  "kernelspec": {
   "display_name": "base",
   "language": "python",
   "name": "python3"
  },
  "language_info": {
   "codemirror_mode": {
    "name": "ipython",
    "version": 3
   },
   "file_extension": ".py",
   "mimetype": "text/x-python",
   "name": "python",
   "nbconvert_exporter": "python",
   "pygments_lexer": "ipython3",
   "version": "3.11.5"
  }
 },
 "nbformat": 4,
 "nbformat_minor": 2
}
