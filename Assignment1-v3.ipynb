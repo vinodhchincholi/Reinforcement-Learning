{
 "cells": [
  {
   "cell_type": "markdown",
   "metadata": {},
   "source": [
    "## REFL Assignment 1\n",
    "Vinodh Chincholi, MDS202252\n",
    "\n",
    "Question 1(ii) Value Search for 687 gridworld problem"
   ]
  },
  {
   "cell_type": "code",
   "execution_count": 1,
   "metadata": {},
   "outputs": [],
   "source": [
    "import numpy as np\n",
    "import matplotlib.pyplot as plt"
   ]
  },
  {
   "cell_type": "code",
   "execution_count": 2,
   "metadata": {},
   "outputs": [],
   "source": [
    "state_set = [(i,j) for i in range(5) for j in range(5) \n",
    "                  if not((i==2 and j==2) or (i==3 and j==2))]\n",
    "\n",
    "action_map = {'up':(-1,0), 'down':(1,0), 'left':(0,-1), 'right':(0,1), 'stay':(0,0)}\n",
    "\n",
    "gamma = 0.9\n",
    "\n",
    "values = np.random.normal(0, 1, (5,5))\n",
    "action = np.zeros((5,5))"
   ]
  },
  {
   "cell_type": "code",
   "execution_count": 4,
   "metadata": {},
   "outputs": [],
   "source": [
    "def reward(state):\n",
    "    if state == (4,2):\n",
    "        return -10\n",
    "    elif state == (4,4):\n",
    "        return 10\n",
    "    else:\n",
    "        return 0\n",
    "    \n",
    "def is_legal(state, action):\n",
    "    candState = tuple(map(sum, zip(state, action)))\n",
    "    if candState in state_set:\n",
    "        return True\n",
    "    else:\n",
    "        return False\n",
    "    \n",
    "def summation(state, action):\n",
    "    \n",
    "    output = 0\n",
    "    \n",
    "    if state == (4,4):\n",
    "        return output\n",
    "    \n",
    "    if action in ['up', 'down']:\n",
    "        weight = {action:0.8, 'left':0.05, 'right':0.05, 'stay':0.1}\n",
    "    elif action in ['left', 'right']:\n",
    "        weight = {action:0.8, 'up':0.05, 'down':0.05, 'stay':0.1}\n",
    "        \n",
    "    for a in weight:\n",
    "        a_tup = action_map[a]\n",
    "        candState = tuple(map(sum, zip(state, a_tup)))\n",
    "        if candState in state_set:\n",
    "            output += weight[a]*(reward(candState) + gamma*values[candState])\n",
    "            \n",
    "    return output"
   ]
  },
  {
   "cell_type": "code",
   "execution_count": 5,
   "metadata": {},
   "outputs": [],
   "source": [
    "## Using equation from class to find policy at each state\n",
    "\n",
    "for _ in range(1000):\n",
    "    for state in state_set:\n",
    "        all_actions = [summation(state, action) for action in ['up', 'down', 'left', 'right']]\n",
    "        action[state] = np.argmax(all_actions)\n",
    "        values[state] = max(all_actions)"
   ]
  },
  {
   "cell_type": "code",
   "execution_count": 14,
   "metadata": {},
   "outputs": [],
   "source": [
    "action2 = [['_' for i in range(5)] for j in range(5)]\n",
    "actions = ['u', 'd', 'l', 'r']\n",
    "\n",
    "for state in state_set:\n",
    "    i,j = state[0],state[1]\n",
    "    action2[i][j] = actions[int(action[i,j])]\n",
    "    \n",
    "action2[4][4] = '_'"
   ]
  },
  {
   "cell_type": "code",
   "execution_count": 15,
   "metadata": {},
   "outputs": [
    {
     "data": {
      "text/plain": [
       "[['r', 'd', 'r', 'd', 'd'],\n",
       " ['r', 'r', 'r', 'd', 'd'],\n",
       " ['r', 'u', '_', 'd', 'd'],\n",
       " ['u', 'u', '_', 'r', 'd'],\n",
       " ['u', 'u', 'r', 'r', '_']]"
      ]
     },
     "execution_count": 15,
     "metadata": {},
     "output_type": "execute_result"
    }
   ],
   "source": [
    "## Final policy at each state\n",
    "\n",
    "action2"
   ]
  },
  {
   "cell_type": "code",
   "execution_count": null,
   "metadata": {},
   "outputs": [],
   "source": []
  }
 ],
 "metadata": {
  "kernelspec": {
   "display_name": "base",
   "language": "python",
   "name": "python3"
  },
  "language_info": {
   "codemirror_mode": {
    "name": "ipython",
    "version": 3
   },
   "file_extension": ".py",
   "mimetype": "text/x-python",
   "name": "python",
   "nbconvert_exporter": "python",
   "pygments_lexer": "ipython3",
   "version": "3.11.5"
  }
 },
 "nbformat": 4,
 "nbformat_minor": 2
}
