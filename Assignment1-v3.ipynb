{
 "cells": [
  {
   "cell_type": "markdown",
   "metadata": {},
   "source": [
    "## REFL Assignment 1\n",
    "Vinodh Chincholi, MDS202252\n",
    "\n",
    "Question 1(ii) Value Search for 687 gridworld problem"
   ]
  },
  {
   "cell_type": "code",
   "execution_count": 1,
   "metadata": {},
   "outputs": [],
   "source": [
    "import numpy as np\n",
    "import matplotlib.pyplot as plt"
   ]
  },
  {
   "cell_type": "code",
   "execution_count": 2,
   "metadata": {},
   "outputs": [],
   "source": [
    "## This class specifies the environment (S, A, p, dR, d0, gamma)\n",
    "\n",
    "class gridWorld:\n",
    "    def __init__(self):\n",
    "        \n",
    "        ## the state space is tuple (i,j) excluding (2,2) (3,2)\n",
    "        self.S = [(i,j) for i in range(5) for j in range(5) \n",
    "                  if not((i==2 and j==2) or (i==3 and j==2))]\n",
    "        \n",
    "        ## the set of actions are up, down, left, right\n",
    "        ## these can be conviniently written as tuples which when added to state s \n",
    "        ## return the new state. Actions in order up, down, left, right (& stay at s)\n",
    "        self.A = {'u':(-1,0), 'd':(1,0), 'l':(0,-1), 'r':(0,1), 's':(0,0)}\n",
    "        \n",
    "        ## The initial state for each episode is constant\n",
    "        self.s = (0,0)\n",
    "        \n",
    "        ## Decay parameter as defined\n",
    "        self.gamma = 0.9\n",
    "        \n",
    "        self.reward = 0\n",
    "        \n",
    "        \n",
    "    def getNewState(self, a):\n",
    "        \n",
    "        oldState = self.s\n",
    "        \n",
    "        ## Sample action according to 0.8, 0.05, 0.05, 0.1 rule given in question\n",
    "        if a in ['u', 'd']:\n",
    "            a = np.random.choice([a, 'l', 'r', 's'], 1, [0.8, 0.05, 0.05, 0.1])[0]\n",
    "        elif a in ['l', 'r']:\n",
    "            a = np.random.choice([a, 'u', 'd', 's'], 1, [0.8, 0.05, 0.05, 0.1])[0]\n",
    "        \n",
    "        ## Convert from string action to tuple\n",
    "        a = self.A[a]\n",
    "        \n",
    "        ## Take the action a\n",
    "        candState = tuple(map(sum, zip(self.s, a)))\n",
    "        \n",
    "        ## Return same state if a is taking agent out of gridWorld\n",
    "        if candState not in self.S:\n",
    "            # print(f'Cannot go {candState} from {oldState}')\n",
    "            self.reward = 0\n",
    "            return\n",
    "        \n",
    "        ## Else return new state\n",
    "        self.s = candState\n",
    "        \n",
    "        ## Once the move is made, update rewards\n",
    "        if self.s == (4,2):\n",
    "            self.reward = -10\n",
    "\n",
    "        elif self.s == (4,4):\n",
    "            self.reward = 10\n",
    "            \n",
    "        else:\n",
    "            self.reward = 0\n",
    "        \n",
    "        # print(f'{oldState} --> {self.s}\\n Reward: {self.reward}')\n",
    "        return"
   ]
  },
  {
   "cell_type": "code",
   "execution_count": 3,
   "metadata": {},
   "outputs": [],
   "source": [
    "def eval_policy(policy, tot_eps):\n",
    "    G_list = []\n",
    "    for _ in range(tot_eps):\n",
    "        agent = gridWorld()\n",
    "        state = agent.s\n",
    "        moves = 0\n",
    "        \n",
    "        terminal = False\n",
    "        G = 0\n",
    "        while not(terminal):\n",
    "\n",
    "            action = policy[state]\n",
    "            \n",
    "            agent.getNewState(action)\n",
    "            G = agent.reward + agent.gamma*G\n",
    "            state = agent.s\n",
    "            moves += 1\n",
    "            \n",
    "            if state == (4,4):\n",
    "                terminal = True\n",
    "                \n",
    "            if moves > 10000:\n",
    "                break\n",
    "            \n",
    "        G_list.append(G)\n",
    "    \n",
    "    return (np.mean(G_list), np.std(G_list))"
   ]
  },
  {
   "cell_type": "code",
   "execution_count": 4,
   "metadata": {},
   "outputs": [],
   "source": [
    "state_set = [(i,j) for i in range(5) for j in range(5) \n",
    "                  if not((i==2 and j==2) or (i==3 and j==2))]\n",
    "\n",
    "action_map = {'up':(-1,0), 'down':(1,0), 'left':(0,-1), 'right':(0,1), 'stay':(0,0)}\n",
    "\n",
    "gamma = 0.9\n",
    "\n",
    "values = np.random.normal(0, 1, (5,5))\n",
    "values2 = np.random.normal(0, 1, (5,5))\n",
    "action = np.zeros((5,5))\n",
    "action2 = np.zeros((5,5))"
   ]
  },
  {
   "cell_type": "code",
   "execution_count": 5,
   "metadata": {},
   "outputs": [],
   "source": [
    "def reward(state):\n",
    "    if state == (4,2):\n",
    "        return -10\n",
    "    elif state == (4,4):\n",
    "        return 10\n",
    "    else:\n",
    "        return 0\n",
    "    \n",
    "def is_legal(state, action):\n",
    "    candState = tuple(map(sum, zip(state, action)))\n",
    "    if candState in state_set:\n",
    "        return True\n",
    "    else:\n",
    "        return False\n",
    "    \n",
    "def summation(state, action):\n",
    "    \n",
    "    output = 0\n",
    "    \n",
    "    if state == (4,4):\n",
    "        return output\n",
    "    \n",
    "    if action in ['up', 'down']:\n",
    "        weight = {action:0.8, 'left':0.05, 'right':0.05, 'stay':0.1}\n",
    "    elif action in ['left', 'right']:\n",
    "        weight = {action:0.8, 'up':0.05, 'down':0.05, 'stay':0.1}\n",
    "        \n",
    "    for a in weight:\n",
    "        a_tup = action_map[a]\n",
    "        candState = tuple(map(sum, zip(state, a_tup)))\n",
    "        if candState in state_set:\n",
    "            output += weight[a]*(reward(candState) + gamma*values[candState])\n",
    "            \n",
    "    return output"
   ]
  },
  {
   "cell_type": "code",
   "execution_count": 6,
   "metadata": {},
   "outputs": [],
   "source": [
    "f = False\n",
    "count = 0\n",
    "G_list = []\n",
    "while True:\n",
    "    count = count + 1\n",
    "    \n",
    "    for state in state_set:\n",
    "        all_actions = [summation(state, action) for action in ['up', 'down', 'left', 'right']]\n",
    "        action[state] = np.argmax(all_actions)\n",
    "        values2[state] = max(all_actions)\n",
    "\n",
    "    if ((values - values2)**2).sum() < 0.001:\n",
    "            f = True\n",
    "            break\n",
    "    values = values2.copy()"
   ]
  },
  {
   "cell_type": "code",
   "execution_count": 7,
   "metadata": {},
   "outputs": [
    {
     "data": {
      "text/plain": [
       "array([[3.10316347, 3.69898872, 4.30564802, 5.13719292, 5.2454768 ],\n",
       "       [3.63676287, 4.21401327, 4.87780397, 5.89597008, 6.3086474 ],\n",
       "       [3.05782409, 3.48371784, 0.38590427, 6.75271403, 7.60493531],\n",
       "       [2.55249206, 2.87823667, 0.06535657, 8.05937344, 9.18974916],\n",
       "       [2.10663713, 2.12699913, 6.17210901, 9.18974916, 0.        ]])"
      ]
     },
     "execution_count": 7,
     "metadata": {},
     "output_type": "execute_result"
    }
   ],
   "source": [
    "values"
   ]
  },
  {
   "cell_type": "code",
   "execution_count": 8,
   "metadata": {},
   "outputs": [],
   "source": [
    "action2 = [['_' for i in range(5)] for j in range(5)]\n",
    "actions = ['u', 'd', 'l', 'r']\n",
    "\n",
    "for state in state_set:\n",
    "    i,j = state[0],state[1]\n",
    "    action2[i][j] = actions[int(action[i,j])]\n",
    "    \n",
    "action2[4][4] = '_'"
   ]
  },
  {
   "cell_type": "code",
   "execution_count": 9,
   "metadata": {},
   "outputs": [
    {
     "data": {
      "text/plain": [
       "array([['r', 'd', 'r', 'd', 'd'],\n",
       "       ['r', 'r', 'r', 'd', 'd'],\n",
       "       ['r', 'u', '_', 'd', 'd'],\n",
       "       ['u', 'u', '_', 'r', 'd'],\n",
       "       ['u', 'u', 'r', 'r', '_']], dtype='<U1')"
      ]
     },
     "execution_count": 9,
     "metadata": {},
     "output_type": "execute_result"
    }
   ],
   "source": [
    "action2 = np.array(action2)\n",
    "action2"
   ]
  },
  {
   "cell_type": "code",
   "execution_count": null,
   "metadata": {},
   "outputs": [],
   "source": []
  },
  {
   "cell_type": "code",
   "execution_count": 10,
   "metadata": {},
   "outputs": [
    {
     "data": {
      "image/png": "[encoded data removed]",
      "text/plain": [
       "<Figure size 1000x500 with 1 Axes>"
      ]
     },
     "metadata": {},
     "output_type": "display_data"
    }
   ],
   "source": [
    "perf = [eval_policy(action2, 50) for _ in range(50)]\n",
    "trial = [j+1 for j in range(len(perf))]\n",
    "mean, std = [tup[0] for tup in perf], [tup[1] for tup in perf]\n",
    "\n",
    "fig = plt.figure(figsize=(10,5))\n",
    "plt.errorbar(x=trial, y=mean,\n",
    "             yerr=std, fmt='o')\n",
    "plt.show()"
   ]
  },
  {
   "cell_type": "markdown",
   "metadata": {},
   "source": [
    "The total number of iterations for convergence is given by 'count' = 17 here"
   ]
  },
  {
   "cell_type": "code",
   "execution_count": 11,
   "metadata": {},
   "outputs": [
    {
     "data": {
      "text/plain": [
       "17"
      ]
     },
     "execution_count": 11,
     "metadata": {},
     "output_type": "execute_result"
    }
   ],
   "source": [
    "count"
   ]
  },
  {
   "cell_type": "code",
   "execution_count": null,
   "metadata": {},
   "outputs": [],
   "source": []
  }
 ],
 "metadata": {
  "kernelspec": {
   "display_name": "base",
   "language": "python",
   "name": "python3"
  },
  "language_info": {
   "codemirror_mode": {
    "name": "ipython",
    "version": 3
   },
   "file_extension": ".py",
   "mimetype": "text/x-python",
   "name": "python",
   "nbconvert_exporter": "python",
   "pygments_lexer": "ipython3",
   "version": "3.11.5"
  }
 },
 "nbformat": 4,
 "nbformat_minor": 2
}
