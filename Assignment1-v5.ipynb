{
 "cells": [
  {
   "cell_type": "markdown",
   "metadata": {},
   "source": [
    "## REFL Assignment 1\n",
    "Vinodh Chincholi, MDS202252\n",
    "\n",
    "Question 2(ii) Cross Entropy Method for 687 gridworld problem"
   ]
  },
  {
   "cell_type": "code",
   "execution_count": 1,
   "metadata": {},
   "outputs": [],
   "source": [
    "import numpy as np\n",
    "import matplotlib.pyplot as plt\n",
    "from numpy import sin, cos, pi, exp, dot"
   ]
  },
  {
   "cell_type": "code",
   "execution_count": 2,
   "metadata": {},
   "outputs": [],
   "source": [
    "g = 9.8\n",
    "mp = 0.1\n",
    "mc = 10.0\n",
    "l = 1.0\n",
    "\n",
    "def sigmoid(par, vec):\n",
    "    return 1 /(1 + exp(-1*dot(par, vec)))"
   ]
  },
  {
   "cell_type": "code",
   "execution_count": 3,
   "metadata": {},
   "outputs": [],
   "source": [
    "def validate(val, type):\n",
    "    if type == 'x_dot':\n",
    "        if val <= -10:\n",
    "            return -10\n",
    "        elif val >= 10:\n",
    "            return 10\n",
    "        else:\n",
    "            return val\n",
    "        \n",
    "    elif type == 'theta_dot':\n",
    "        if val <= -1*pi:\n",
    "            return -1*pi\n",
    "        elif val >= pi:\n",
    "            return pi\n",
    "        else:\n",
    "            return val"
   ]
  },
  {
   "cell_type": "code",
   "execution_count": 4,
   "metadata": {},
   "outputs": [],
   "source": [
    "class cartpole:\n",
    "    \n",
    "    def __init__(self):\n",
    "        \n",
    "        self.x = 0\n",
    "        self.x_dot = 0\n",
    "        self.theta = 0\n",
    "        self.theta_dot = 0\n",
    "        self.t = 0\n",
    "        \n",
    "    def getCurState(self):\n",
    "        return np.array([self.x, self.x_dot, self.theta, self.theta_dot, self.t])\n",
    "    \n",
    "    def getNewState(self, F):\n",
    "        \n",
    "        x, x_dot, theta, theta_dot, t = self.x, self.x_dot, self.theta, self.theta_dot, self.t\n",
    "        \n",
    "        expr1 = (-1*F - mp*l*(theta_dot**2)*sin(theta))\n",
    "        theta_doubledot = (g*sin(theta) + cos(theta)*expr1)/(l*(4/3 - mp*(cos(theta)**2)/(mc + mp)))\n",
    "        \n",
    "        x_doubledot = (F + mp*l*((theta_dot**2)*sin(theta) - theta_doubledot*cos(theta)))/(mc+mp)\n",
    "        \n",
    "        self.theta_dot = validate(theta_dot + 0.02*theta_doubledot, 'theta_dot')\n",
    "        self.x_dot = validate(x_dot + 0.02*x_doubledot, 'x_dot')\n",
    "        \n",
    "        self.theta = self.theta + 0.02*self.theta_dot\n",
    "        self.x = x + 0.02*self.x_dot\n",
    "        self.t = t + 0.02\n",
    "        \n",
    "        return\n",
    "    \n",
    "    def getAction(self, par):\n",
    "        prob_right = sigmoid(par, self.getCurState())\n",
    "        \n",
    "        if prob_right > 0.5:\n",
    "            return 10\n",
    "        else:\n",
    "            return -10\n",
    "\n",
    "        \n",
    "    def legal(self):\n",
    "        if self.x <= -3 or self.x >= 3:\n",
    "            return False\n",
    "        \n",
    "        elif self.theta <= -5*pi/12 or self.theta >= 5*pi/12:\n",
    "            return False\n",
    "        \n",
    "        elif self.t >= 20:\n",
    "            return False\n",
    "        \n",
    "        return True"
   ]
  },
  {
   "cell_type": "code",
   "execution_count": 5,
   "metadata": {},
   "outputs": [
    {
     "name": "stdout",
     "output_type": "stream",
     "text": [
      "[0 0 0 0 0]\n",
      "[ 0.00042596  0.02129824 -0.00302244 -0.15112219  0.02      ]\n"
     ]
    },
    {
     "data": {
      "text/plain": [
       "True"
      ]
     },
     "execution_count": 5,
     "metadata": {},
     "output_type": "execute_result"
    }
   ],
   "source": [
    "cart = cartpole()\n",
    "print(cart.getCurState())\n",
    "cart.getNewState(10.0)\n",
    "print(cart.getCurState())\n",
    "\n",
    "cart.legal()"
   ]
  },
  {
   "cell_type": "code",
   "execution_count": 6,
   "metadata": {},
   "outputs": [],
   "source": [
    "def eval_policy(par):\n",
    "\n",
    "    cart = cartpole()\n",
    "    reward = 0\n",
    "    while cart.legal():\n",
    "        f = cart.getAction(par = par)\n",
    "        cart.getNewState(f)\n",
    "        reward = reward + 1\n",
    "\n",
    "    return (reward)"
   ]
  },
  {
   "cell_type": "markdown",
   "metadata": {},
   "source": [
    "### Upto now using code from part (i)"
   ]
  },
  {
   "cell_type": "code",
   "execution_count": 7,
   "metadata": {},
   "outputs": [],
   "source": [
    "## taken random eps, K and K_eps\n",
    "eps = 0.2\n",
    "K = 100\n",
    "K_eps = 20\n",
    "\n",
    "## The initial parameter is picked randomly\n",
    "param_mean = np.random.normal(0, 1, (5))\n",
    "covar = 2*np.eye(5, 5)"
   ]
  },
  {
   "cell_type": "code",
   "execution_count": 8,
   "metadata": {},
   "outputs": [],
   "source": [
    "mean_list = [param_mean]\n",
    "covar_list = [covar]\n",
    "gain_list = []"
   ]
  },
  {
   "cell_type": "code",
   "execution_count": 9,
   "metadata": {},
   "outputs": [],
   "source": [
    "for i in range(10):\n",
    "    \n",
    "    ## Sample 100 policies from Normal(theta0, covar = 2*Identity)\n",
    "    param_k = [np.random.multivariate_normal(param_mean, covar) for k in range(K)]\n",
    "    \n",
    "    ## Evaluate all 100 of them\n",
    "    gain_list = [eval_policy(tk) for tk in param_k]\n",
    "    \n",
    "    ## Get 10 20 performing policies\n",
    "    top_indices = np.argsort(gain_list)\n",
    "    top_indices = top_indices[-1:-21:-1]\n",
    "    top_param = [param_k[i] for i in top_indices]\n",
    "    \n",
    "    ## The new mean is the mean of these top policies\n",
    "    param_mean = np.mean(top_param, axis=0)\n",
    "    \n",
    "    ## Update covar like shown in question\n",
    "    term = np.zeros_like(covar)\n",
    "    for k in range(K_eps):\n",
    "        dev = top_param[k] - param_mean\n",
    "        term = term + np.outer(dev, dev)\n",
    "        \n",
    "    covar = (eps*covar + term)/(eps + K_eps)\n",
    "    \n",
    "    \n",
    "    ## Collect updates to check convergence\n",
    "    mean_list.append(param_mean)\n",
    "    covar_list.append(covar)\n",
    "    gain_list.append(np.max(gain_list))"
   ]
  },
  {
   "cell_type": "code",
   "execution_count": 26,
   "metadata": {},
   "outputs": [
    {
     "data": {
      "image/png": "[encoded data removed]",
      "text/plain": [
       "<Figure size 640x480 with 1 Axes>"
      ]
     },
     "metadata": {},
     "output_type": "display_data"
    }
   ],
   "source": [
    "mean_norm_list = []\n",
    "covar_norm_list = []\n",
    "for i in range(len(mean_list)-1):\n",
    "    mean_norm_list.append(np.linalg.norm(mean_list[i]-mean_list[i+1]))\n",
    "    covar_norm_list.append(np.linalg.norm(covar_list[i]-covar_list[i+1]))\n",
    "\n",
    "plt.title('Norms of Mean vector and Covar Vector')\n",
    "plt.scatter([j+1 for j in range(len(mean_norm_list))], mean_norm_list, c='blue')\n",
    "plt.scatter([j+1 for j in range(len(covar_norm_list))], covar_norm_list, c='red')\n",
    "plt.legend(['Mean', 'Covar'])\n",
    "plt.show()"
   ]
  },
  {
   "cell_type": "markdown",
   "metadata": {},
   "source": [
    "Both the mean and the covariance has converged"
   ]
  },
  {
   "cell_type": "code",
   "execution_count": 11,
   "metadata": {},
   "outputs": [
    {
     "data": {
      "text/plain": [
       "1001"
      ]
     },
     "execution_count": 11,
     "metadata": {},
     "output_type": "execute_result"
    }
   ],
   "source": [
    "## The final mean policy performs best, giving reward 1001 as desired\n",
    "eval_policy(param_mean)"
   ]
  },
  {
   "cell_type": "code",
   "execution_count": null,
   "metadata": {},
   "outputs": [],
   "source": []
  }
 ],
 "metadata": {
  "kernelspec": {
   "display_name": "base",
   "language": "python",
   "name": "python3"
  },
  "language_info": {
   "codemirror_mode": {
    "name": "ipython",
    "version": 3
   },
   "file_extension": ".py",
   "mimetype": "text/x-python",
   "name": "python",
   "nbconvert_exporter": "python",
   "pygments_lexer": "ipython3",
   "version": "3.11.5"
  }
 },
 "nbformat": 4,
 "nbformat_minor": 2
}
